{
 "cells": [
  {
   "cell_type": "code",
   "execution_count": 3,
   "id": "1cbf8493-3b10-41b2-9535-c8540ff312eb",
   "metadata": {},
   "outputs": [
    {
     "name": "stdin",
     "output_type": "stream",
     "text": [
      "enter the number 6\n"
     ]
    },
    {
     "name": "stdout",
     "output_type": "stream",
     "text": [
      "factorial of a is  720\n"
     ]
    }
   ],
   "source": [
    "# 1. Write a Python Program to Find the Factorial of a Number? \n",
    "a = int (input(\"enter the number\") )\n",
    "fact = 1\n",
    "for i in range (1,a+1):\n",
    "    \n",
    "    fact=fact * i\n",
    "print(\"factorial of a is \",fact)\n",
    "    \n",
    "    \n",
    "    "
   ]
  },
  {
   "cell_type": "code",
   "execution_count": 10,
   "id": "db26c49d-667e-401f-899c-8fd8d3cdc3a1",
   "metadata": {},
   "outputs": [
    {
     "name": "stdin",
     "output_type": "stream",
     "text": [
      "enter the number for table 2\n"
     ]
    },
    {
     "name": "stdout",
     "output_type": "stream",
     "text": [
      " 2 x 1 = 2 \n",
      " 2 x 2 = 4 \n",
      " 2 x 3 = 6 \n",
      " 2 x 4 = 8 \n",
      " 2 x 5 = 10 \n",
      " 2 x 6 = 12 \n",
      " 2 x 7 = 14 \n",
      " 2 x 8 = 16 \n",
      " 2 x 9 = 18 \n",
      " 2 x 10 = 20 \n"
     ]
    }
   ],
   "source": [
    "# 2. Write a Python Program to Display the multiplication Table?\n",
    "x = int (input(\"enter the number for table\")) \n",
    "for i in range (1,11) :\n",
    "    print (\" {} x {} = {} \" .format( x  , i , x*i ))\n",
    "\n"
   ]
  },
  {
   "cell_type": "code",
   "execution_count": 31,
   "id": "5c02e208-4302-45d0-bd27-ee6f7426565a",
   "metadata": {},
   "outputs": [],
   "source": [
    "# 3. Write a Python Program to Print the Fibonacci sequence? \n",
    "\"\"\" fibonacci series 1 , 1 ,2 , 3, 5 , 8 \"\"\"\n",
    "def genfib (n) :\n",
    "    a = 1\n",
    "    b = 1\n",
    "    l = []\n",
    "    for i in range (n) :\n",
    "        l.append (a) \n",
    "        a , b = b , a+b \n",
    "    return l"
   ]
  },
  {
   "cell_type": "code",
   "execution_count": 28,
   "id": "06ecb06c-60af-42ae-8a36-9ab9f4f2d0d6",
   "metadata": {},
   "outputs": [
    {
     "data": {
      "text/plain": [
       "[1, 1, 2, 3, 5, 8]"
      ]
     },
     "execution_count": 28,
     "metadata": {},
     "output_type": "execute_result"
    }
   ],
   "source": [
    "genfib(6)"
   ]
  },
  {
   "cell_type": "code",
   "execution_count": 49,
   "id": "1078992d-9f69-4720-a9f6-f1ccc64fb4de",
   "metadata": {},
   "outputs": [
    {
     "name": "stdin",
     "output_type": "stream",
     "text": [
      "enter the nunber for :  1634\n"
     ]
    },
    {
     "name": "stdout",
     "output_type": "stream",
     "text": [
      " number is armstrong number \n"
     ]
    }
   ],
   "source": [
    "# 4. Write a Python Program to Check Armstrong Number? \n",
    "\"\"\" if we take 163 = 1^3 6^3 3^3 or 1564 = 1^4 5^4 6^4 4^4    yhe its a armstrong number \"\"\" \n",
    "x = int(input(\"enter the nunber for : \"))\n",
    "power = len (str(x))\n",
    "\n",
    "y = x\n",
    "sum = 0\n",
    "while y > 0: \n",
    "    digit = y % 10 \n",
    "    sum = sum + digit ** power\n",
    "    y = y // 10\n",
    "if  x == sum :\n",
    "    print (\" number is armstrong number \")\n",
    "else : \n",
    "    print(\"not an armstrong number \")\n",
    "    \n",
    "\n"
   ]
  },
  {
   "cell_type": "code",
   "execution_count": 50,
   "id": "49e8aebf-deb0-4b14-8d65-e0b2e45305fa",
   "metadata": {},
   "outputs": [
    {
     "name": "stdin",
     "output_type": "stream",
     "text": [
      "Low no :  1\n",
      "Up no :  1000\n"
     ]
    },
    {
     "name": "stdout",
     "output_type": "stream",
     "text": [
      "1\n",
      "2\n",
      "3\n",
      "4\n",
      "5\n",
      "6\n",
      "7\n",
      "8\n",
      "9\n",
      "153\n",
      "370\n",
      "371\n",
      "407\n"
     ]
    }
   ],
   "source": [
    "# 5. Write a Python Program to Find Armstrong Number in an Interval ? \n",
    "x = int(input(\"Low no : \"))\n",
    "y = int(input(\"Up no : \"))\n",
    "\n",
    "\n",
    "for i in range(x,y+1):\n",
    "    power = len(str(i))\n",
    "    temp = i\n",
    "    sum = 0\n",
    "    while temp > 0:\n",
    "        digit = temp % 10\n",
    "        sum = sum + digit ** power\n",
    "        temp = temp//10\n",
    "    if i == sum :\n",
    "        print(i)\n"
   ]
  },
  {
   "cell_type": "code",
   "execution_count": 67,
   "id": "5e40b26d-5c52-4ffb-870b-c640e2d82914",
   "metadata": {},
   "outputs": [
    {
     "name": "stdin",
     "output_type": "stream",
     "text": [
      "enter the number 5\n"
     ]
    },
    {
     "name": "stdout",
     "output_type": "stream",
     "text": [
      "the sum of natural number upto 5 is 15 \n"
     ]
    }
   ],
   "source": [
    "# 6. Write a Python Program to Find the Sum of Natural Numbers? \n",
    "n = int (input(\"enter the number\")) \n",
    "sum=0\n",
    "for i in range (0,n+1) :\n",
    "    sum += i\n",
    "print(\"the sum of natural number upto {} is {} \" . format (n ,sum))"
   ]
  },
  {
   "cell_type": "markdown",
   "id": "1fd0aaf6-81bb-49a7-8705-18fe205a367f",
   "metadata": {},
   "source": []
  }
 ],
 "metadata": {
  "kernelspec": {
   "display_name": "Python 3 (ipykernel)",
   "language": "python",
   "name": "python3"
  },
  "language_info": {
   "codemirror_mode": {
    "name": "ipython",
    "version": 3
   },
   "file_extension": ".py",
   "mimetype": "text/x-python",
   "name": "python",
   "nbconvert_exporter": "python",
   "pygments_lexer": "ipython3",
   "version": "3.10.6"
  }
 },
 "nbformat": 4,
 "nbformat_minor": 5
}
