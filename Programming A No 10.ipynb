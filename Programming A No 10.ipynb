{
 "cells": [
  {
   "cell_type": "markdown",
   "id": "db8ccb9b-07f7-4d0f-bea7-86a36422d7f1",
   "metadata": {},
   "source": [
    "### 1. Write a Python program to find sum of elements in list?\n"
   ]
  },
  {
   "cell_type": "code",
   "execution_count": 21,
   "id": "43c03051-e418-49cb-bba8-3d1aa5133fb7",
   "metadata": {},
   "outputs": [
    {
     "name": "stdin",
     "output_type": "stream",
     "text": [
      "Enter The length of the list : 5\n",
      " 1\n",
      " 2\n",
      " 3\n",
      " 4\n",
      " 5\n"
     ]
    },
    {
     "name": "stdout",
     "output_type": "stream",
     "text": [
      "sum of the list :  15\n"
     ]
    }
   ],
   "source": [
    "n = int(input(\"Enter The length of the list :\"))\n",
    "lst = []\n",
    "\n",
    "for i in range (n):\n",
    "    lst.append(int(input()))\n",
    "    \n",
    "print(\"Entered list is \",lst)\n",
    "print(\"sum of the list : \",sum(lst))"
   ]
  },
  {
   "cell_type": "markdown",
   "id": "82baa26a-44f6-4535-b17f-2c7ff5e9a1a5",
   "metadata": {},
   "source": [
    "### 2. Write a Python program to Multiply all numbers in the list?"
   ]
  },
  {
   "cell_type": "code",
   "execution_count": 28,
   "id": "59e5816f-2c03-47e5-b5cf-cf3e7053bbfe",
   "metadata": {},
   "outputs": [
    {
     "name": "stdin",
     "output_type": "stream",
     "text": [
      "Enter The length of the list : 5\n",
      " 1\n",
      " 2\n",
      " 3\n",
      " 4\n",
      " 5\n"
     ]
    },
    {
     "name": "stdout",
     "output_type": "stream",
     "text": [
      "Entered list is  [1, 2, 3, 4, 5]\n",
      "multiplication of the given numbers is  120\n"
     ]
    }
   ],
   "source": [
    "n = int(input(\"Enter The length of the list :\"))\n",
    "lst = []\n",
    "\n",
    "for i in range (n):\n",
    "    lst.append(int(input()))\n",
    "    \n",
    "print(\"Entered list is \",lst)\n",
    "\n",
    "product=1\n",
    "\n",
    "for i in lst:\n",
    "    product = product * i\n",
    "    \n",
    "print(\"multiplication of the given numbers is \",product)"
   ]
  },
  {
   "cell_type": "markdown",
   "id": "306b1127-4048-48c6-bf6b-6e52e1d5459f",
   "metadata": {},
   "source": [
    "### 3. Write a Python program to find smallest number in a list?"
   ]
  },
  {
   "cell_type": "code",
   "execution_count": 34,
   "id": "cdf54317-52b4-4da8-8b73-ce20e5b377db",
   "metadata": {},
   "outputs": [
    {
     "name": "stdin",
     "output_type": "stream",
     "text": [
      "enter the lenght for list 5\n",
      "- 1\n",
      "- 2\n",
      "- 3\n",
      "- 4\n",
      "- 5\n"
     ]
    },
    {
     "name": "stdout",
     "output_type": "stream",
     "text": [
      "THe list is  [1, 2, 3, 4, 5]\n",
      "smallest Number in this list : 1\n"
     ]
    }
   ],
   "source": [
    "n = int(input('enter the lenght for list'))\n",
    "lst = []\n",
    "\n",
    "for i in range(n):\n",
    "    lst.append(int(input(\"-\")))\n",
    "    \n",
    "print(\"THe list is \" , lst)\n",
    "print(\"smallest Number in this list :\",min(lst))"
   ]
  },
  {
   "cell_type": "markdown",
   "id": "1a6d7652-233c-4df7-8921-dfd4d022ee66",
   "metadata": {},
   "source": [
    "### 4. Write a Python program to find largest number in a list?"
   ]
  },
  {
   "cell_type": "code",
   "execution_count": 37,
   "id": "93b8b97c-67f6-42d5-80af-f0f0b908752e",
   "metadata": {},
   "outputs": [
    {
     "name": "stdin",
     "output_type": "stream",
     "text": [
      "enter the lenght for list 5\n",
      "- 1\n",
      "- 2\n",
      "- 3\n",
      "- 4\n",
      "- 5\n"
     ]
    },
    {
     "name": "stdout",
     "output_type": "stream",
     "text": [
      "THe list is  [1, 2, 3, 4, 5]\n",
      "smallest Number in this list : 5\n"
     ]
    }
   ],
   "source": [
    "n = int(input('enter the lenght for list'))\n",
    "lst = []\n",
    "\n",
    "for i in range(n):\n",
    "    lst.append(int(input(\"-\")))\n",
    "    \n",
    "print(\"THe list is \" , lst)\n",
    "print(\"smallest Number in this list :\",max(lst))"
   ]
  },
  {
   "cell_type": "markdown",
   "id": "f84dabc9-6e0c-43e1-acb6-5889b8eb7414",
   "metadata": {},
   "source": [
    "### 5. Write a Python program to find second largest number in a list?"
   ]
  },
  {
   "cell_type": "code",
   "execution_count": 44,
   "id": "abc82770-f716-4942-b88a-782ef2f77ee3",
   "metadata": {},
   "outputs": [
    {
     "name": "stdin",
     "output_type": "stream",
     "text": [
      "lenght of the list 5\n",
      "- 1\n",
      "- 2\n",
      "- 3\n",
      "- 4\n",
      "- 5\n"
     ]
    },
    {
     "name": "stdout",
     "output_type": "stream",
     "text": [
      "the list is : [1, 2, 3, 4, 5]\n",
      "Sorted list is :  [1, 2, 3, 4, 5]\n",
      "second largest number is : 4\n"
     ]
    }
   ],
   "source": [
    "n = int(input(\"lenght of the list\"))\n",
    "lst = []\n",
    "\n",
    "for i in range(n):\n",
    "    lst.append(int(input(\"-\")))\n",
    "    \n",
    "print(\"the list is :\",lst)\n",
    "\n",
    "lst.sort()\n",
    "\n",
    "print(\"Sorted list is : \",lst)\n",
    "print(\"second largest number is :\",lst[-2])"
   ]
  },
  {
   "cell_type": "markdown",
   "id": "39fd5472-8e3a-43e1-acc8-5dac26ef9730",
   "metadata": {},
   "source": [
    "### 6. Write a Python program to find N largest elements from a list?"
   ]
  },
  {
   "cell_type": "code",
   "execution_count": 7,
   "id": "b4847202-cbeb-48f7-b8f0-e1717d66917e",
   "metadata": {},
   "outputs": [
    {
     "name": "stdin",
     "output_type": "stream",
     "text": [
      "lenght of the list 5\n",
      "- 100\n",
      "- 500\n",
      "- 1500\n",
      "- 5000\n",
      "- 10000\n"
     ]
    },
    {
     "name": "stdout",
     "output_type": "stream",
     "text": [
      "the list is : [100, 500, 1500, 5000, 10000]\n",
      "Sorted list is :  [100, 500, 1500, 5000, 10000]\n"
     ]
    },
    {
     "name": "stdin",
     "output_type": "stream",
     "text": [
      "Enter the number of largest number you want : 2\n"
     ]
    },
    {
     "name": "stdout",
     "output_type": "stream",
     "text": [
      "2 )largest number in given list [5000, 10000]\n"
     ]
    }
   ],
   "source": [
    "n = int(input(\"lenght of the list\"))\n",
    "lst = []\n",
    "\n",
    "for i in range(n):\n",
    "    lst.append(int(input(\"-\")))\n",
    "    \n",
    "print(\"the list is :\",lst)\n",
    "\n",
    "lst.sort()\n",
    "print(\"Sorted list is : \",lst)\n",
    "nlar=int(input(\"Enter the number of largest number you want :\"))\n",
    "\n",
    "if n < nlar:\n",
    "    print(\"enter the smaller number than given list :\")\n",
    "else :\n",
    "    print(nlar,\")largest number in given list\",lst[(n-nlar):])\n",
    "\n"
   ]
  },
  {
   "cell_type": "markdown",
   "id": "ea991dd7-1ff0-4ad7-b319-4db7f6245046",
   "metadata": {},
   "source": [
    "### 7. Write a Python program to print even numbers in a list?"
   ]
  },
  {
   "cell_type": "code",
   "execution_count": 6,
   "id": "62eb51fc-5db3-48db-8ca1-d45f7fe8ba4a",
   "metadata": {},
   "outputs": [
    {
     "name": "stdin",
     "output_type": "stream",
     "text": [
      "lenght of the list 10\n",
      " 11\n",
      " 41\n",
      " 22\n",
      " 32\n",
      " 50\n",
      " 10\n",
      " 50\n",
      " 10000000\n",
      " 255555555555555555555\n",
      " 1111111111111111\n"
     ]
    },
    {
     "name": "stdout",
     "output_type": "stream",
     "text": [
      "this is the given list :  [11, 41, 22, 32, 50, 10, 50, 10000000, 255555555555555555555, 1111111111111111]\n",
      "even numbers ar : [22, 32, 50, 10, 50, 10000000]\n"
     ]
    }
   ],
   "source": [
    "lenght = int(input(\"lenght of the list\"))\n",
    "lst = []\n",
    "\n",
    "for i in range(lenght):\n",
    "    lst.append(int(input()))\n",
    "    \n",
    "print(\"this is the given list : \",lst)\n",
    "\n",
    "even = [i for i in lst if i%2==0]\n",
    "print(\"even numbers ar :\",even)    \n",
    "\n",
    "    \n"
   ]
  },
  {
   "cell_type": "markdown",
   "id": "a148383a-5d26-4a7e-864c-c57857eb7299",
   "metadata": {},
   "source": [
    "### 8. Write a Python program to print odd numbers in a List?"
   ]
  },
  {
   "cell_type": "code",
   "execution_count": 8,
   "id": "56923f2e-e78d-499d-9f26-c8f4c7753d31",
   "metadata": {},
   "outputs": [
    {
     "name": "stdin",
     "output_type": "stream",
     "text": [
      "lenght of the list 5\n",
      " 1\n",
      " 2\n",
      " 3\n",
      " 4\n",
      " 5\n"
     ]
    },
    {
     "name": "stdout",
     "output_type": "stream",
     "text": [
      "this is the given list :  [1, 2, 3, 4, 5]\n",
      "even numbers ar : [1, 3, 5]\n"
     ]
    }
   ],
   "source": [
    "lenght = int(input(\"lenght of the list\"))\n",
    "lst = []\n",
    "\n",
    "for i in range(lenght):\n",
    "    lst.append(int(input()))\n",
    "    \n",
    "print(\"this is the given list : \",lst)\n",
    "\n",
    "even = [i for i in lst if i%2!=0]\n",
    "print(\"even numbers ar :\",even)    "
   ]
  },
  {
   "cell_type": "markdown",
   "id": "45619069-8f00-4d8b-9030-069881b9eb2f",
   "metadata": {},
   "source": [
    "### 9. Write a Python program to Remove empty List from List?"
   ]
  },
  {
   "cell_type": "code",
   "execution_count": 11,
   "id": "df90c7c6-9dc5-4651-8cca-d05d89d76551",
   "metadata": {},
   "outputs": [
    {
     "name": "stdout",
     "output_type": "stream",
     "text": [
      "the list [5, [], 5, 2, [], 10, [], 15]\n",
      "new lst after removing empty lst [5, 5, 2, 10, 15]\n"
     ]
    }
   ],
   "source": [
    "lst = [5,[],5,2,[],10,[],15]\n",
    "print(\"the list\",lst)\n",
    "\n",
    "new_lst=[item for item in lst if item !=[]]\n",
    "print(\"new lst after removing empty lst\",new_lst)"
   ]
  },
  {
   "cell_type": "markdown",
   "id": "8f941df0-4c89-4744-ae0b-74d1b3ddbf47",
   "metadata": {},
   "source": [
    "### 10. Write a Python program to Cloning or Copying a list?"
   ]
  },
  {
   "cell_type": "code",
   "execution_count": 21,
   "id": "a2a2be58-12e4-45a6-9772-10c38e8ab304",
   "metadata": {},
   "outputs": [
    {
     "name": "stdin",
     "output_type": "stream",
     "text": [
      "enter the list 5\n",
      " 1\n",
      " 2\n",
      " 3\n",
      " 4\n",
      " 5\n"
     ]
    },
    {
     "name": "stdout",
     "output_type": "stream",
     "text": [
      "given list : [1, 2, 3, 4, 5]\n",
      "copied lst is :  [1, 2, 3, 4, 5]\n"
     ]
    }
   ],
   "source": [
    "n = int(input(\"enter the list\"))\n",
    "lst = []\n",
    "\n",
    "for i in range(n):\n",
    "    lst.append(int(input()))\n",
    "print(\"given list :\",lst)\n",
    "\n",
    "new_lst = lst.copy()\n",
    "print(\"copied lst is : \",new_lst)"
   ]
  },
  {
   "cell_type": "markdown",
   "id": "fdcc8c14-3e7b-43a8-b92c-8c0eaff5a1d9",
   "metadata": {},
   "source": [
    "### 11. Write a Python program to Count occurrences of an element in a list?"
   ]
  },
  {
   "cell_type": "code",
   "execution_count": 26,
   "id": "fc85b501-3269-4e1e-b3c6-d6e685e1ee9f",
   "metadata": {},
   "outputs": [
    {
     "name": "stdin",
     "output_type": "stream",
     "text": [
      "enter the lenght 10\n",
      "- 1\n",
      "- 2\n",
      "- 1\n",
      "- 2\n",
      "- 1\n",
      "- 1\n",
      "- 2\n",
      "- 1\n",
      "- 2\n",
      "- 1\n"
     ]
    },
    {
     "name": "stdout",
     "output_type": "stream",
     "text": [
      "Given list is : [1, 2, 1, 2, 1, 1, 2, 1, 2, 1]\n"
     ]
    },
    {
     "name": "stdin",
     "output_type": "stream",
     "text": [
      "enter the element u want to find occurance 1\n"
     ]
    },
    {
     "name": "stdout",
     "output_type": "stream",
     "text": [
      "1 this element has occured 6 time in list\n"
     ]
    }
   ],
   "source": [
    "n = int(input(\"enter the lenght\"))\n",
    "lst = []\n",
    "\n",
    "for i in range(n):\n",
    "    lst.append(int(input(\"-\")))\n",
    "    \n",
    "print(\"Given list is :\" , lst)\n",
    "\n",
    "ele = int(input(\"enter the element u want to find occurance\"))\n",
    "\n",
    "print(ele,\"this element has occured {} time in list\".format(lst.count(ele)))"
   ]
  },
  {
   "cell_type": "code",
   "execution_count": null,
   "id": "a633cec8-bda7-4763-9d1d-22d9e0114c5c",
   "metadata": {},
   "outputs": [],
   "source": []
  }
 ],
 "metadata": {
  "kernelspec": {
   "display_name": "Python 3 (ipykernel)",
   "language": "python",
   "name": "python3"
  },
  "language_info": {
   "codemirror_mode": {
    "name": "ipython",
    "version": 3
   },
   "file_extension": ".py",
   "mimetype": "text/x-python",
   "name": "python",
   "nbconvert_exporter": "python",
   "pygments_lexer": "ipython3",
   "version": "3.10.6"
  }
 },
 "nbformat": 4,
 "nbformat_minor": 5
}
