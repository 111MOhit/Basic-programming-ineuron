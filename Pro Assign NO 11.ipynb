{
 "cells": [
  {
   "cell_type": "markdown",
   "id": "65bf5644-00a9-4a05-a94f-1b326716a95f",
   "metadata": {},
   "source": [
    "### 1. Write a Python program to find words which are greater than given length k?"
   ]
  },
  {
   "cell_type": "code",
   "execution_count": 6,
   "id": "7adfdca5-0dbe-4ab9-bf21-cf9e9cb89da3",
   "metadata": {},
   "outputs": [
    {
     "name": "stdin",
     "output_type": "stream",
     "text": [
      "Enter the string :  my name is mohit \n",
      "Enter the lenth K :  4\n"
     ]
    },
    {
     "name": "stdout",
     "output_type": "stream",
     "text": [
      "\n",
      "The original string ' my name is mohit  '\n",
      "Words greater than k 4\n",
      "['mohit']\n"
     ]
    }
   ],
   "source": [
    "\n",
    "def Biggerthank(k,str):\n",
    "    txt = str.split()\n",
    "    Wordlist = []\n",
    "    for i in txt:\n",
    "        if len(i) > k:\n",
    "            Wordlist.append(i)\n",
    "    return Wordlist\n",
    "\n",
    "str = input(\"Enter the string : \")\n",
    "k = int(input(\"Enter the lenth K : \"))\n",
    "\n",
    "Wordlist = Biggerthank(k,str)\n",
    "\n",
    "print(\"\\nThe original string ' {} '\".format(str))\n",
    "\n",
    "print(\"Words greater than k {}\".format(k))\n",
    "print(Wordlist) "
   ]
  },
  {
   "cell_type": "markdown",
   "id": "dcdde799-cf66-4239-997f-66cddba22aa6",
   "metadata": {},
   "source": [
    "### 2. Write a Python program for removing i-th character from a string?"
   ]
  },
  {
   "cell_type": "code",
   "execution_count": 7,
   "id": "8f9d3547-fd38-4be9-839f-64a5730fa5e1",
   "metadata": {},
   "outputs": [
    {
     "name": "stdin",
     "output_type": "stream",
     "text": [
      "enter the string mohhit\n",
      "enter index you want to remove 2\n"
     ]
    },
    {
     "name": "stdout",
     "output_type": "stream",
     "text": [
      "new string is :  mohit\n"
     ]
    }
   ],
   "source": [
    "def remove(str,i):\n",
    "    for j in range(len(str)):\n",
    "        if j==i :\n",
    "            str = str.replace(str[i] ,\"\",1)                 # 1 is used for replacing only first occurance of given index\n",
    "    return str\n",
    "\n",
    "str = input(\"enter the string\") \n",
    "i = int(input(\"enter index you want to remove\"))\n",
    "\n",
    "\n",
    "print(\"new string is : \",remove(str,i))"
   ]
  },
  {
   "cell_type": "markdown",
   "id": "b902050d-1996-4971-a944-3bf374a61c65",
   "metadata": {},
   "source": [
    "### 3. Write a Python program to split and join a string?"
   ]
  },
  {
   "cell_type": "code",
   "execution_count": 9,
   "id": "886f0f6a-04af-459e-8dbd-adf32e4ee6d4",
   "metadata": {},
   "outputs": [
    {
     "name": "stdout",
     "output_type": "stream",
     "text": [
      "splited string is :  ['my', 'name', 'is', 'mohit']\n",
      "string after joining : my-name-is-mohit\n"
     ]
    }
   ],
   "source": [
    "str  = \"my name is mohit\"\n",
    "str = str.split(\" \")\n",
    "print(\"splited string is : \",str)\n",
    "\n",
    "str = \"-\".join(str)\n",
    "print(\"string after joining :\",str)"
   ]
  },
  {
   "cell_type": "markdown",
   "id": "faba7ba7-6cfa-4dc2-b3ca-35e777967a12",
   "metadata": {},
   "source": [
    "### 4. Write a Python to check if a given string is binary string or not?"
   ]
  },
  {
   "cell_type": "code",
   "execution_count": 16,
   "id": "74b317d7-3d93-436a-813f-6e5b231735b8",
   "metadata": {},
   "outputs": [
    {
     "name": "stdin",
     "output_type": "stream",
     "text": [
      "enter the number:  1022123\n"
     ]
    },
    {
     "name": "stdout",
     "output_type": "stream",
     "text": [
      "not binary\n"
     ]
    }
   ],
   "source": [
    "def ifbinary(str):\n",
    "    binary = \"01\"\n",
    "    for i in str:\n",
    "        if i not in binary:\n",
    "            print(\"not binary\")\n",
    "            break\n",
    "    else:\n",
    "        print(\"binary\")\n",
    "\n",
    "str = input(\"enter the number: \")\n",
    "ifbinary(str)"
   ]
  },
  {
   "cell_type": "markdown",
   "id": "fff85caf-6df4-41c4-8b62-c631a565da78",
   "metadata": {},
   "source": [
    "### 5. Write a Python program to find uncommon words from two Strings?"
   ]
  },
  {
   "cell_type": "code",
   "execution_count": null,
   "id": "2e7fcfdc-5352-4133-bd60-418c7e87b192",
   "metadata": {},
   "outputs": [
    {
     "name": "stdin",
     "output_type": "stream",
     "text": [
      "enter the first string : mohit sanjay potdar\n",
      "enter the second string : anushka sanjay potdar\n"
     ]
    },
    {
     "name": "stdout",
     "output_type": "stream",
     "text": [
      "uncommon words in both strings are :   mohit anushka\n"
     ]
    }
   ],
   "source": [
    "def uncommon(a,b):\n",
    "    list_one = a.split()\n",
    "    list_two = b.split()\n",
    "    notcom =\"\"\n",
    "    \n",
    "    for i in list_one:\n",
    "        if i not in list_two:\n",
    "            notcom = notcom + \" \" + i\n",
    "     \n",
    "    for j in list_two:\n",
    "        if j not in list_one:\n",
    "            notcom =  notcom + \" \" + j\n",
    "            \n",
    "            \n",
    "    return notcom\n",
    "\n",
    "a = input(\"enter the first string :\").lower()\n",
    "b = input(\"enter the second string :\").lower()\n",
    "\n",
    "uncommon_words = uncommon(a,b)\n",
    "\n",
    "\n",
    "print(\"uncommon words in both strings are : \",uncommon_words)\n",
    "    "
   ]
  },
  {
   "cell_type": "markdown",
   "id": "a962360c-3df3-44ce-8989-b7d09afd434e",
   "metadata": {},
   "source": [
    "### 6. Write a Python to find all duplicate characters in string?"
   ]
  },
  {
   "cell_type": "code",
   "execution_count": 13,
   "id": "083dd92f-0cd3-490c-90a8-6d3a7b34d55b",
   "metadata": {},
   "outputs": [
    {
     "name": "stdin",
     "output_type": "stream",
     "text": [
      "enter the string my name is mohit\n"
     ]
    },
    {
     "data": {
      "text/plain": [
       "['m', 'i']"
      ]
     },
     "execution_count": 13,
     "metadata": {},
     "output_type": "execute_result"
    }
   ],
   "source": [
    "str = input(\"enter the string\").lower()\n",
    "duplicate = []\n",
    "for i in str:\n",
    "    if str.count(i)>1 and i != \" \" :\n",
    "        if i not in duplicate:\n",
    "            duplicate.append(i)\n",
    "            \n",
    "duplicate            "
   ]
  },
  {
   "cell_type": "markdown",
   "id": "be82493d-51ba-44ab-9148-b609c0bc7153",
   "metadata": {},
   "source": [
    "### 7. Write a Python Program to check if a string contains any special character?"
   ]
  },
  {
   "cell_type": "code",
   "execution_count": 21,
   "id": "05ac35c1-ffed-4cfd-bff9-9da99a68eee1",
   "metadata": {},
   "outputs": [
    {
     "name": "stdin",
     "output_type": "stream",
     "text": [
      "enter with special char my name is^%^%\n"
     ]
    },
    {
     "name": "stdout",
     "output_type": "stream",
     "text": [
      "String my name is^%^% has special charecter/s : ['^', '%', '^', '%']\n"
     ]
    }
   ],
   "source": [
    "import string\n",
    "str_char = string.punctuation\n",
    "special_char = []\n",
    "\n",
    "\n",
    "str = input(\"enter with special char\")\n",
    "\n",
    "for i in str:\n",
    "    if i in str_char :\n",
    "        special_char.append(i)\n",
    "if len(special_char) > 0:\n",
    "    print(\"String {} has special charecter/s : {}\".format(str,special_char))\n",
    "\n",
    "        \n",
    "        "
   ]
  },
  {
   "cell_type": "code",
   "execution_count": null,
   "id": "9d9d3e47-d676-45fa-9249-770bf156c8ff",
   "metadata": {},
   "outputs": [],
   "source": []
  }
 ],
 "metadata": {
  "kernelspec": {
   "display_name": "Python 3 (ipykernel)",
   "language": "python",
   "name": "python3"
  },
  "language_info": {
   "codemirror_mode": {
    "name": "ipython",
    "version": 3
   },
   "file_extension": ".py",
   "mimetype": "text/x-python",
   "name": "python",
   "nbconvert_exporter": "python",
   "pygments_lexer": "ipython3",
   "version": "3.10.6"
  }
 },
 "nbformat": 4,
 "nbformat_minor": 5
}
