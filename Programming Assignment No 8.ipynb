{
 "cells": [
  {
   "cell_type": "code",
   "execution_count": null,
   "id": "c7f4ef20-262b-42fd-99a9-f498c2673e2b",
   "metadata": {},
   "outputs": [],
   "source": [
    "# 1. Write a Python Program to Add Two Matrices? \n",
    "\n",
    "import numpy as np \n",
    "\n",
    "mat1 = np.array([[1,2,3],\n",
    "                 [5,6,7],\n",
    "                 [8,9,10]])\n",
    "mat2 = np.array([[10,11,12],\n",
    "                 [13,14,15],\n",
    "                 [16,17,18]])\n",
    "summat = np.add(mat1,mat2)\n",
    "print(\"sum of mat1 \\n\\n{} and \\n\\n mat2 \\n\\n{} is \\n\\n{}\".format(mat1,mat2,summat))\n"
   ]
  },
  {
   "cell_type": "code",
   "execution_count": null,
   "id": "68a0e96e-0bcb-4180-8f93-e65eca3c6ecc",
   "metadata": {},
   "outputs": [],
   "source": [
    "# 2. Write a Python Program to Multiply Two Matrices? \n",
    "\n",
    "\n",
    "mat1 = np.array([[1,2,3],\n",
    "                 [5,6,7],\n",
    "                 [8,9,10]])\n",
    "\n",
    "mat2 = np.array([[10,11,12],\n",
    "                 [13,14,15],\n",
    "                 [16,17,18]])\n",
    "multimat = np.dot(mat1,mat2)\n",
    "print(\"Multification of mat1 \\n\\n{} and \\n\\n mat2 \\n\\n{} is \\n\\n{}\".format(mat1,mat2,multimat))\n"
   ]
  },
  {
   "cell_type": "code",
   "execution_count": 1,
   "id": "0bdc0324-70ce-4752-9423-ade8e4e4b33e",
   "metadata": {},
   "outputs": [
    {
     "name": "stdin",
     "output_type": "stream",
     "text": [
      "Enter N for N x N matrix:  2\n"
     ]
    },
    {
     "name": "stdout",
     "output_type": "stream",
     "text": [
      "Enter the element :\n"
     ]
    },
    {
     "name": "stdin",
     "output_type": "stream",
     "text": [
      " 1\n",
      " 2\n",
      " 3\n",
      " 4\n"
     ]
    },
    {
     "name": "stdout",
     "output_type": "stream",
     "text": [
      "Display Array M1 In Matrix Form\n",
      "1 2 \n",
      "3 4 \n",
      "Transposed Matrix\n",
      "[1, 3]\n",
      "[2, 4]\n"
     ]
    }
   ],
   "source": [
    "# 3. Write a Python Program to Transpose a Matrix? \n",
    "\n",
    "\n",
    "def Matrix(n,v=0):\n",
    "    M=[]             \n",
    "    for i in range(n):\n",
    "        \n",
    "        row =[]\n",
    "        for j in range(n):\n",
    "            row.append(v)\n",
    "        M.append(row)\n",
    "    return(M)\n",
    "\n",
    "def crMatrix(n):\n",
    "    \n",
    "    M=[]             \n",
    "    print(\"Enter the element :\")\n",
    "    for i in range(n):\n",
    "        #stor row\n",
    "        row =[]\n",
    "        for j in range(n):\n",
    "            row.append(int(input()))\n",
    "        M.append(row)\n",
    "    return(M)\n",
    "\n",
    "def prMatrix(M,n):\n",
    "    for i in range(n):\n",
    "        for j in range(n):\n",
    "            print(M[i][j], end=\" \")\n",
    "        print() \n",
    "\n",
    "def tpMatrix(M,n,result):\n",
    "    for i in range(n):\n",
    "        for j in range(n):\n",
    "            result[i][j]= M[j][i]\n",
    "    return result\n",
    "\n",
    "n=int(input(\"Enter N for N x N matrix: \"))       \n",
    "M1 = crMatrix(n)\n",
    "\n",
    "print(\"Display Array M1 In Matrix Form\")\n",
    "prMatrix(M1,n)\n",
    "\n",
    "result = Matrix(n)\n",
    "result = tpMatrix(M1,n,result)\n",
    "print(\"Transposed Matrix\")\n",
    "for r in result:\n",
    "    print(r)        \n",
    "     \n"
   ]
  },
  {
   "cell_type": "code",
   "execution_count": 2,
   "id": "c6f969c1-68cd-4425-8fef-2db9706837f2",
   "metadata": {},
   "outputs": [
    {
     "name": "stdin",
     "output_type": "stream",
     "text": [
      "ENter the string : my name is mohit \n"
     ]
    },
    {
     "name": "stdout",
     "output_type": "stream",
     "text": [
      "is\n",
      "mohit\n",
      "my\n",
      "name\n"
     ]
    }
   ],
   "source": [
    "# 4. Write a Python Program to Sort Words in Alphabetic Order?\n",
    "\n",
    "arr =  input ('ENter the string :')\n",
    "words  =  arr.split()                          # spliting\n",
    "words.sort()                                    # sorting \n",
    "for word in words :\n",
    "    print (word)\n",
    "\n"
   ]
  },
  {
   "cell_type": "code",
   "execution_count": null,
   "id": "26bc0aa8-2ace-44d8-934a-42eb8e216e8a",
   "metadata": {},
   "outputs": [],
   "source": [
    "# 5. Write a Python Program to Remove Punctuation From a String? \n",
    "\n",
    "punctuations = '''!()-[]{};:'\"\\,<>./?@#$%^&*_~''' \n",
    "\n",
    "arr = input('Enter the sentence with punctuation')\n",
    "\n",
    "remove_pun = ''\n",
    "for i in arr :\n",
    "    if i not in punctuations :\n",
    "        remove_pun = remove_pun + i\n",
    "        \n",
    "        \n",
    "print (remove_pun)        \n"
   ]
  },
  {
   "cell_type": "code",
   "execution_count": null,
   "id": "1f92690c-34a8-42c6-8468-701eb6f0390e",
   "metadata": {},
   "outputs": [],
   "source": []
  }
 ],
 "metadata": {
  "kernelspec": {
   "display_name": "Python 3 (ipykernel)",
   "language": "python",
   "name": "python3"
  },
  "language_info": {
   "codemirror_mode": {
    "name": "ipython",
    "version": 3
   },
   "file_extension": ".py",
   "mimetype": "text/x-python",
   "name": "python",
   "nbconvert_exporter": "python",
   "pygments_lexer": "ipython3",
   "version": "3.10.6"
  }
 },
 "nbformat": 4,
 "nbformat_minor": 5
}
