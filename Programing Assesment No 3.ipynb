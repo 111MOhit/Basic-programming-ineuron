{
 "cells": [
  {
   "cell_type": "code",
   "execution_count": 9,
   "id": "620eb10f-733b-4562-9b2e-cac4ffbd4777",
   "metadata": {},
   "outputs": [
    {
     "name": "stdin",
     "output_type": "stream",
     "text": [
      "enter the Number  0\n"
     ]
    },
    {
     "name": "stdout",
     "output_type": "stream",
     "text": [
      "the number is 0\n"
     ]
    }
   ],
   "source": [
    "# 1. Write a Python Program to Check if a Number is Positive, Negative or Zero?\n",
    "x = int(input(\"enter the Number \"))\n",
    "if x > 0 :\n",
    "    print ('the number is positive')\n",
    "elif x < 0 :\n",
    "    print (\"the number is negative \")\n",
    "else :\n",
    "    print ('the number is 0')\n",
    "    \n"
   ]
  },
  {
   "cell_type": "code",
   "execution_count": 44,
   "id": "5c72c259-a91f-42c4-a01c-935cfc84264a",
   "metadata": {},
   "outputs": [
    {
     "name": "stdin",
     "output_type": "stream",
     "text": [
      "enter the number  25\n"
     ]
    },
    {
     "name": "stdout",
     "output_type": "stream",
     "text": [
      "the number is odd number  25\n"
     ]
    }
   ],
   "source": [
    "# 2. Write a Python Program to Check if a Number is Odd or Even?\n",
    "a = int(input (\"enter the number \"))\n",
    "if a % 2==0 :\n",
    "    print (\"the number is even Number : \" ,a)\n",
    "\n",
    "else :\n",
    "    print (\"the number is odd number \" , a)"
   ]
  },
  {
   "cell_type": "code",
   "execution_count": 46,
   "id": "80456658-8dee-473f-9ff7-c79c801135d4",
   "metadata": {},
   "outputs": [
    {
     "name": "stdin",
     "output_type": "stream",
     "text": [
      "enter the year  2016\n"
     ]
    },
    {
     "name": "stdout",
     "output_type": "stream",
     "text": [
      "it is a leap year\n"
     ]
    }
   ],
   "source": [
    "# 3.  write a Python Program to Check Leap Year?\n",
    "year = int(input(\"enter the year \"))\n",
    "if year % 4 == 0 :\n",
    "    print (\"it is a leap year\")\n",
    "else :\n",
    "    print (\"its not a leap year\")"
   ]
  },
  {
   "cell_type": "code",
   "execution_count": 60,
   "id": "d047d055-6ed5-4607-a26a-00ae5fd85c14",
   "metadata": {},
   "outputs": [
    {
     "name": "stdin",
     "output_type": "stream",
     "text": [
      "enter the Number 5\n"
     ]
    },
    {
     "name": "stdout",
     "output_type": "stream",
     "text": [
      "the number is prime number \n"
     ]
    }
   ],
   "source": [
    "# 4. Write a Python Program to Check Prime Number?\n",
    "num = int(input(\"enter the Number\"))\n",
    "for i in range (2,num) :\n",
    "    if num % i == 0 :\n",
    "        print (\"the number is not a prime number :\")\n",
    "        break \n",
    "else :\n",
    "    print (\"the number is prime number \")"
   ]
  },
  {
   "cell_type": "code",
   "execution_count": 81,
   "id": "44ccbec3-e560-43e0-9cb7-029cac99fb66",
   "metadata": {},
   "outputs": [
    {
     "name": "stdin",
     "output_type": "stream",
     "text": [
      "enter the first number  1\n",
      "enter the second number 10\n"
     ]
    },
    {
     "name": "stdout",
     "output_type": "stream",
     "text": [
      "2 number is prime\n",
      "3 number is prime\n",
      "4 this number is not prime \n",
      "5 number is prime\n",
      "6 this number is not prime \n",
      "7 number is prime\n",
      "8 this number is not prime \n",
      "9 this number is not prime \n"
     ]
    }
   ],
   "source": [
    "# 5. Write a Python Program to Print all Prime Numbers in an Interval of 1-10000? \n",
    "a = int(input(\"enter the first number \"))\n",
    "b = int (input(\"enter the second number\"))\n",
    "for num in range (a,b) :\n",
    "    if num > 1 :\n",
    "        for i in range (2,num) :\n",
    "            if num%i == 0 :\n",
    "                print (num,\"this number is not prime \")\n",
    "                break \n",
    "        else :\n",
    "                print (num ,\"number is prime\")\n",
    "        \n",
    "        "
   ]
  },
  {
   "cell_type": "code",
   "execution_count": null,
   "id": "c2a775dc-25a4-4d7b-8856-19af0ca39ff6",
   "metadata": {},
   "outputs": [],
   "source": []
  },
  {
   "cell_type": "code",
   "execution_count": null,
   "id": "067b75c8-5b9c-4480-baf9-4343d34b3678",
   "metadata": {},
   "outputs": [],
   "source": []
  }
 ],
 "metadata": {
  "kernelspec": {
   "display_name": "Python 3 (ipykernel)",
   "language": "python",
   "name": "python3"
  },
  "language_info": {
   "codemirror_mode": {
    "name": "ipython",
    "version": 3
   },
   "file_extension": ".py",
   "mimetype": "text/x-python",
   "name": "python",
   "nbconvert_exporter": "python",
   "pygments_lexer": "ipython3",
   "version": "3.10.6"
  }
 },
 "nbformat": 4,
 "nbformat_minor": 5
}
