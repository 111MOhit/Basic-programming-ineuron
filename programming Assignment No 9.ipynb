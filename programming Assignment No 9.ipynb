{
 "cells": [
  {
   "cell_type": "code",
   "execution_count": 1,
   "id": "f21722bf-100c-45d3-a35c-43f344ca0c28",
   "metadata": {},
   "outputs": [
    {
     "name": "stdin",
     "output_type": "stream",
     "text": [
      "Enter the number : 121\n"
     ]
    },
    {
     "name": "stdout",
     "output_type": "stream",
     "text": [
      "121 Number is not Disarium\n"
     ]
    }
   ],
   "source": [
    "# 1. Write a Python program to check if the given number is a Disarium Number\n",
    "\n",
    "def Disarium(num):\n",
    "    sum = 0\n",
    "    while(num>0):\n",
    "        l = len(str(num))\n",
    "        no = num%10\n",
    "        sum= sum + no**l   \n",
    "        l-=1\n",
    "        num = num//10\n",
    "    return sum\n",
    "\n",
    "num = int(input(\"Enter the number :\"))\n",
    "\n",
    "\n",
    "sum = Disarium(num)\n",
    "if sum == num:\n",
    "    print(num,\"Number is Disarium\")\n",
    "else:\n",
    "    print(num,\"Number is not Disarium\")\n",
    "    "
   ]
  },
  {
   "cell_type": "markdown",
   "id": "0ba5087b-a3af-405f-a2aa-91455c2c7dea",
   "metadata": {},
   "source": [
    "#### Q .2 Write a Python program to print all disarium numbers between 1 to 100?"
   ]
  },
  {
   "cell_type": "code",
   "execution_count": 3,
   "id": "7804b692-7db5-4f0c-a8b7-e127955cc481",
   "metadata": {},
   "outputs": [
    {
     "name": "stdout",
     "output_type": "stream",
     "text": [
      "Disarium numbers in range 1 to 100\n",
      "[1, 2, 3, 4, 5, 6, 7, 8, 9, 89]\n"
     ]
    }
   ],
   "source": [
    "def Disarium(num):\n",
    "    sum = 0\n",
    "    while(num > 0):\n",
    "        l = len(str(num))    # Calculate the length of the number (number of digits)\n",
    "        no = num % 10        # Get the last digit of the number\n",
    "        sum = sum + no**l    # Add the last digit raised to the power of its position to the sum\n",
    "        l -= 1               # Decrement the position\n",
    "        num = num // 10      # Remove the last digit from the number\n",
    "    return sum\n",
    "print(\"Disarium numbers in range 1 to 100\")\n",
    "\n",
    "disno = []\n",
    "\n",
    "for i in range(1, 101):\n",
    "    sum = 0\n",
    "    sum = Disarium(i)\n",
    "    if sum == i:\n",
    "        disno.append(i)\n",
    "        \n",
    "print(disno)\n"
   ]
  },
  {
   "cell_type": "markdown",
   "id": "eb0ff9f7-400b-4f48-81f9-b595dd8c551d",
   "metadata": {},
   "source": [
    "#### Q.3 Write a Python program to check if the given number is Happy Number?"
   ]
  },
  {
   "cell_type": "code",
   "execution_count": null,
   "id": "1023a1fe-72b9-4728-bd1c-40157b204102",
   "metadata": {},
   "outputs": [],
   "source": [
    "def happy(num):\n",
    "    sum = 0                              # emptu variable for storing  \n",
    "    while (num>0):\n",
    "        dig =  num%10                    # for extracting the rightmost given number\n",
    "        sum = sum+dig**2                 # squaring each digit of given numbers   \n",
    "        num = num//10                    # removing every digit after squaring it\n",
    "    return sum\n",
    "\n",
    "num = int (input(\"Enter the Number : \"))\n",
    "result = num\n",
    "\n",
    "while (result != 1 and result != 4):     #  taking result != 4 bc program will go in infinite loop\n",
    "    result = Happy(result)\n",
    "\n",
    "if result == 1 :\n",
    "    print(num,\"Is a Happy Number\")\n",
    "\n",
    "else:\n",
    "    print (num , \"Is unhappy Number\")"
   ]
  },
  {
   "cell_type": "markdown",
   "id": "15626cf9-9b39-4b6a-b824-68079d839cfe",
   "metadata": {
    "tags": []
   },
   "source": [
    "### 4. Write a Python program to print all happy numbers between 1 and 100?"
   ]
  },
  {
   "cell_type": "code",
   "execution_count": 11,
   "id": "87a8e305-ceee-4281-a8a6-14f9cda8290b",
   "metadata": {},
   "outputs": [
    {
     "name": "stdout",
     "output_type": "stream",
     "text": [
      "Happy numbers in range 1 to 100\n",
      "[1, 7, 10, 13, 19, 23, 28, 31, 32, 44, 49, 68, 70, 79, 82, 86, 91, 94, 97, 100]\n"
     ]
    }
   ],
   "source": [
    "def Happy(num):\n",
    "    sum = 0  # Initialize the sum variable to 0\n",
    "    while(num > 0):  # Continue the loop until the number becomes 0\n",
    "        dig = num % 10  # Get the last digit of the number\n",
    "        sum = sum + dig**2  # Add the square of the digit to the sum\n",
    "        num = num // 10  # Remove the last digit from the number\n",
    "    return sum  # Return the sum\n",
    "\n",
    "print(\"Happy numbers in range 1 to 100\")\n",
    "\n",
    "result = num = i = 0  # Initialize variables to 0\n",
    "\n",
    "happyNo = []  # Create an empty list to store the happy numbers\n",
    "\n",
    "# Iterate from 1 to 100\n",
    "for i in range(1, 101):\n",
    "    result = i  # Set the current number as the initial result\n",
    "\n",
    "    # Continue the loop until the result becomes either 1 or 4\n",
    "    while (result != 1 and result != 4):\n",
    "        result = Happy(result)  # Calculate the sum of squares of digits for the result\n",
    "\n",
    "    # If the result is 1, it is a happy number\n",
    "    if result == 1:\n",
    "        happyNo.append(i)  # Add the current number to the happyNo list\n",
    "\n",
    "print(happyNo)  # Print the list of happy numbers"
   ]
  },
  {
   "cell_type": "markdown",
   "id": "8eb0f593-4eb2-4fde-b315-afebacd94dc4",
   "metadata": {},
   "source": [
    "### 5. Write a Python program to determine whether the given number is a Harshad Number ?"
   ]
  },
  {
   "cell_type": "code",
   "execution_count": 20,
   "id": "c694a118-54fa-454a-b611-929871768869",
   "metadata": {},
   "outputs": [
    {
     "name": "stdin",
     "output_type": "stream",
     "text": [
      "Enter no. : 21\n"
     ]
    },
    {
     "name": "stdout",
     "output_type": "stream",
     "text": [
      "21 Is a Harshad number\n"
     ]
    }
   ],
   "source": [
    "def digsum(num):\n",
    "    sum = 0\n",
    "    while(num>0):\n",
    "        dig = num%10\n",
    "        sum = sum + dig      \n",
    "        num = num//10\n",
    "    return sum\n",
    "\n",
    "num = int(input(\"Enter no. :\"))\n",
    "sum = digsum(num)\n",
    "\n",
    "if num % sum == 0:\n",
    "    print(num,\"Is a Harshad number\")\n",
    "else:\n",
    "    print(num,\"Is not a Harshad number\")\n"
   ]
  },
  {
   "cell_type": "markdown",
   "id": "d22f0e67-5018-4557-8c4d-3af9ebbf8122",
   "metadata": {},
   "source": [
    "### 6. Write a Python program to print all pronic numbers between 1 and 100?"
   ]
  },
  {
   "cell_type": "code",
   "execution_count": 27,
   "id": "62f82ccf-ae71-4bd9-b076-832289406b21",
   "metadata": {},
   "outputs": [
    {
     "name": "stdout",
     "output_type": "stream",
     "text": [
      "Pronic numbers in range 1 to 100\n",
      "[2, 6, 12, 20, 30, 42, 56, 72, 90]\n"
     ]
    }
   ],
   "source": [
    "def PronicNo(num):\n",
    "    Pronic = False  # Initialize the Pronic variable to False\n",
    "    for i in range(1, num+1):  # Iterate through numbers from 1 to num (inclusive)\n",
    "        if i*(i+1) == num:  # Check if the product of i and (i+1) is equal to num\n",
    "            Pronic = True  # If the condition is true, set Pronic to True\n",
    "            break  # Exit the loop since we found a Pronic number\n",
    "    return Pronic  # Return the value of Pronic\n",
    "\n",
    "print(\"Pronic numbers in range 1 to 100\")\n",
    "pronicno = []  # Create an empty list to store Pronic numbers\n",
    "for i in range(1, 101):  # Iterate through numbers from 1 to 100\n",
    "    if PronicNo(i):  # Check if the number is a Pronic number using the PronicNo function\n",
    "        pronicno.append(i)  # If it is a Pronic number, add it to the pronicno list\n",
    "print(pronicno)  # Print the list of Pronic numbers\n"
   ]
  },
  {
   "cell_type": "code",
   "execution_count": null,
   "id": "992b4dad-8505-4951-8617-e3c0a0a57993",
   "metadata": {},
   "outputs": [],
   "source": []
  }
 ],
 "metadata": {
  "kernelspec": {
   "display_name": "Python 3 (ipykernel)",
   "language": "python",
   "name": "python3"
  },
  "language_info": {
   "codemirror_mode": {
    "name": "ipython",
    "version": 3
   },
   "file_extension": ".py",
   "mimetype": "text/x-python",
   "name": "python",
   "nbconvert_exporter": "python",
   "pygments_lexer": "ipython3",
   "version": "3.10.6"
  }
 },
 "nbformat": 4,
 "nbformat_minor": 5
}
