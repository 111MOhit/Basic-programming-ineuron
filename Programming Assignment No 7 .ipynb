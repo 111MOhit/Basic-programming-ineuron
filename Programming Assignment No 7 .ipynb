{
 "cells": [
  {
   "cell_type": "code",
   "execution_count": 4,
   "id": "7574671e-30ca-4242-affa-55445be0856e",
   "metadata": {},
   "outputs": [
    {
     "name": "stdout",
     "output_type": "stream",
     "text": [
      "Sum: 15\n"
     ]
    }
   ],
   "source": [
    "# 1. Write a Python Program to find sum of array?\n",
    "\n",
    "Sum = 0\n",
    "array = [1,2,3,4,5]\n",
    "for i in range(0 , len(array)):\n",
    "    Sum+=array[i]\n",
    "print(\"Sum:\", Sum)"
   ]
  },
  {
   "cell_type": "code",
   "execution_count": 22,
   "id": "662260f7-28f3-4d6f-9d36-cf19ff3102ce",
   "metadata": {},
   "outputs": [
    {
     "name": "stdout",
     "output_type": "stream",
     "text": [
      "20\n",
      "largest no in array [1, 2, 3, 5, 10, 20, 15] is 20 \n"
     ]
    }
   ],
   "source": [
    "# 2. Write a Python Program to find largest element in an array?\n",
    "large = 0\n",
    "array = [1,2,3,5,10,20,15]\n",
    "for i in range (0 , len(array)):\n",
    "    if large > array[i]:\n",
    "        print( large)\n",
    "    else :\n",
    "        large = array[i]\n",
    "print('largest no in array {} is {} '.format(  array , large))"
   ]
  },
  {
   "cell_type": "code",
   "execution_count": 28,
   "id": "cdc5f37c-8195-47a4-abaa-b057f8f5a6b4",
   "metadata": {},
   "outputs": [
    {
     "name": "stdout",
     "output_type": "stream",
     "text": [
      "15\n",
      "20\n",
      "10\n",
      "5\n",
      "3\n",
      "2\n"
     ]
    }
   ],
   "source": [
    "#  3. Write a Python Program for array rotation?\n",
    "array = [1,2,3,5,10,20,15]\n",
    "rot=[]\n",
    "l = len(array) -1\n",
    "for i in range(l, 0 , -1):\n",
    "    print(array[i])\n"
   ]
  },
  {
   "cell_type": "code",
   "execution_count": 15,
   "id": "cc8e0853-42d9-4fe7-96c9-1a7f6a06b364",
   "metadata": {},
   "outputs": [
    {
     "name": "stdin",
     "output_type": "stream",
     "text": [
      "Enter the list you want to split :  5\n",
      " 1\n",
      " 2\n",
      " 3\n",
      " 4\n",
      " 5\n"
     ]
    },
    {
     "name": "stdout",
     "output_type": "stream",
     "text": [
      "The array is : [1, 2, 3, 4, 5]\n"
     ]
    },
    {
     "name": "stdin",
     "output_type": "stream",
     "text": [
      "Enter the number of element you want to split 3\n"
     ]
    },
    {
     "name": "stdout",
     "output_type": "stream",
     "text": [
      "The split list is  [1, 2, 3]\n",
      "The List after split and add : [4, 5, 1, 2, 3]\n"
     ]
    }
   ],
   "source": [
    "# 4. Write a Python Program to Split the array and add the first part to the end?\n",
    "l = int(input(\"Enter the list you want to split : \"))\n",
    "array = []\n",
    "for i in range (l):\n",
    "    array.append(int(input()))\n",
    "print(\"The array is :\", array) \n",
    "noro  = int(input(\"Enter the number of element you want to split\"))\n",
    "if noro > l:\n",
    "    print('entered num is greater than l enter valid no in range')\n",
    "else :\n",
    "    print(\"The split list is \" ,array[:noro])\n",
    "    array[:] = array[noro:l] + array[:noro]\n",
    "    print('The List after split and add :' , array)\n",
    "        \n"
   ]
  },
  {
   "cell_type": "code",
   "execution_count": 17,
   "id": "64594e2d-73fb-4d3e-bef4-dd23f73393e1",
   "metadata": {},
   "outputs": [
    {
     "name": "stdin",
     "output_type": "stream",
     "text": [
      "Enter the lenth of your list :  5\n",
      " 1\n",
      " 1\n",
      " 2\n",
      " 1\n",
      " 2\n"
     ]
    },
    {
     "name": "stdout",
     "output_type": "stream",
     "text": [
      "The List is  [1, 1, 2, 1, 2]\n",
      "Not Monotonic\n"
     ]
    }
   ],
   "source": [
    "# 5. Write a Python Program to check if given array is Monotonic? \n",
    "\n",
    "l = int(input(\"Enter the lenth of your list : \"))\n",
    "arr = []\n",
    "\n",
    "for i in range(l):\n",
    "    arr.append(int(input()))\n",
    "print(\"The List is \",arr)\n",
    "\n",
    "if all((arr[i] <= arr[i+1] for i in range(l-1)) or (arr[i] >= lst[i+1] for i in range(l-1))):\n",
    "    print(\"Monotonic\")\n",
    "else:\n",
    "    print(\"Not Monotonic\")"
   ]
  },
  {
   "cell_type": "code",
   "execution_count": null,
   "id": "3a6e33cf-f5c1-4936-b48c-a97137eefd70",
   "metadata": {},
   "outputs": [],
   "source": []
  }
 ],
 "metadata": {
  "kernelspec": {
   "display_name": "Python 3 (ipykernel)",
   "language": "python",
   "name": "python3"
  },
  "language_info": {
   "codemirror_mode": {
    "name": "ipython",
    "version": 3
   },
   "file_extension": ".py",
   "mimetype": "text/x-python",
   "name": "python",
   "nbconvert_exporter": "python",
   "pygments_lexer": "ipython3",
   "version": "3.10.6"
  }
 },
 "nbformat": 4,
 "nbformat_minor": 5
}
