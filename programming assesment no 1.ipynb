{
 "cells": [
  {
   "cell_type": "code",
   "execution_count": 2,
   "id": "72553249-0017-44e9-8b04-dcf14e2c4981",
   "metadata": {},
   "outputs": [
    {
     "name": "stdout",
     "output_type": "stream",
     "text": [
      "hello Python\n"
     ]
    }
   ],
   "source": [
    "# 1. Write a Python program to print Hello Python ?\n",
    "print (\"hello Python\")"
   ]
  },
  {
   "cell_type": "code",
   "execution_count": 7,
   "id": "6b7478a9-90d7-45cb-9bb5-a2f330fe6c7d",
   "metadata": {},
   "outputs": [
    {
     "name": "stdout",
     "output_type": "stream",
     "text": [
      " division =  2.0\n",
      " Addition = 15\n"
     ]
    }
   ],
   "source": [
    "# . Write a Python program to do arithmetical operations addition and division.? \n",
    "a = 10\n",
    "b = 5\n",
    "print (\" division = \" ,a/b)\n",
    "print (\" Addition =\",a+b)"
   ]
  },
  {
   "cell_type": "code",
   "execution_count": 11,
   "id": "fe7ac7b2-fe83-4059-90ad-567e5df443f1",
   "metadata": {},
   "outputs": [
    {
     "name": "stdout",
     "output_type": "stream",
     "text": [
      "75.0\n"
     ]
    }
   ],
   "source": [
    "# 3. Write a Python program to find the area of a triangle ?\n",
    "base=10\n",
    "height = 15\n",
    "area = 1/2 * base * height\n",
    "print(area) "
   ]
  },
  {
   "cell_type": "code",
   "execution_count": 16,
   "id": "07694e20-805f-441f-8ff4-8f97a1a55844",
   "metadata": {},
   "outputs": [
    {
     "name": "stdout",
     "output_type": "stream",
     "text": [
      "x =  22\n",
      " y =  11\n"
     ]
    }
   ],
   "source": [
    "# 4. Write a Python program to swap two variables? \n",
    "x = 11\n",
    "y = 22\n",
    "x , y = y , x\n",
    "print(\"x = \" , x)\n",
    "print (\" y = \" , y)"
   ]
  },
  {
   "cell_type": "code",
   "execution_count": 17,
   "id": "e997f3f5-ef88-4ca1-93ce-5483478d444d",
   "metadata": {},
   "outputs": [
    {
     "name": "stdout",
     "output_type": "stream",
     "text": [
      "\n"
     ]
    }
   ],
   "source": [
    "# 5. Write a Python program to generate a random number?\n",
    "import random \n",
    "num = random.random()\n",
    "print ('')\n"
   ]
  },
  {
   "cell_type": "code",
   "execution_count": null,
   "id": "3fe46eb4-b52e-4ee6-80f7-9bc1ec3a1d86",
   "metadata": {},
   "outputs": [],
   "source": []
  }
 ],
 "metadata": {
  "kernelspec": {
   "display_name": "Python 3 (ipykernel)",
   "language": "python",
   "name": "python3"
  },
  "language_info": {
   "codemirror_mode": {
    "name": "ipython",
    "version": 3
   },
   "file_extension": ".py",
   "mimetype": "text/x-python",
   "name": "python",
   "nbconvert_exporter": "python",
   "pygments_lexer": "ipython3",
   "version": "3.10.6"
  }
 },
 "nbformat": 4,
 "nbformat_minor": 5
}
