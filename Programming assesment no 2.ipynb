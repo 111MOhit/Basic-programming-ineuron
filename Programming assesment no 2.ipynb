{
 "cells": [
  {
   "cell_type": "code",
   "execution_count": 3,
   "id": "4c933ff2-21c3-44c7-b278-717d8114bc62",
   "metadata": {},
   "outputs": [
    {
     "name": "stdout",
     "output_type": "stream",
     "text": [
      "km to miles =  6.2137119\n"
     ]
    }
   ],
   "source": [
    "# 1. Write a Python program to convert kilometers to miles?\n",
    "km = 10    \n",
    "miles =  0.62137119 * km\n",
    "print(\"km to miles = \" , miles)"
   ]
  },
  {
   "cell_type": "code",
   "execution_count": 7,
   "id": "fe500a45-1188-4da7-a8a6-997b394f8880",
   "metadata": {},
   "outputs": [
    {
     "name": "stdout",
     "output_type": "stream",
     "text": [
      "farenheit =  104.0\n"
     ]
    }
   ],
   "source": [
    "# 2. Write a Python program to convert Celsius to Fahrenheit?\n",
    "celsius = 40\n",
    "fareniet = celsius * (9/5) + 32\n",
    "print(\"farenheit = \" , fareniet)\n"
   ]
  },
  {
   "cell_type": "code",
   "execution_count": 3,
   "id": "a9243c17-f58f-4d7a-a7af-b64c0268051d",
   "metadata": {},
   "outputs": [
    {
     "name": "stdin",
     "output_type": "stream",
     "text": [
      "enter the year yyyy format :  2022\n",
      "enter the month in mm format  :  5\n"
     ]
    },
    {
     "name": "stdout",
     "output_type": "stream",
     "text": [
      "      May 2022\n",
      "Mo Tu We Th Fr Sa Su\n",
      "                   1\n",
      " 2  3  4  5  6  7  8\n",
      " 9 10 11 12 13 14 15\n",
      "16 17 18 19 20 21 22\n",
      "23 24 25 26 27 28 29\n",
      "30 31\n",
      "\n"
     ]
    }
   ],
   "source": [
    "#3. Write a Python program to display calendar?\n",
    "import calendar\n",
    "yy = int (input (\"enter the year yyyy format : \"))\n",
    "mm = int (input (\"enter the month in mm format  : \"))\n",
    "print (calendar.month(yy,mm))\n"
   ]
  },
  {
   "cell_type": "code",
   "execution_count": 4,
   "id": "2fe2c864-b3e7-4507-95b8-b4c24e88e71f",
   "metadata": {},
   "outputs": [
    {
     "name": "stdin",
     "output_type": "stream",
     "text": [
      "Enter a =  4\n",
      "Enter b =  5\n",
      "Enter c =  6\n"
     ]
    },
    {
     "name": "stdout",
     "output_type": "stream",
     "text": [
      "(-0.625+1.0532687216470449j) , (-0.625-1.0532687216470449j)\n"
     ]
    }
   ],
   "source": [
    "# 4. Write a Python program to solve quadratic equation? \n",
    "import cmath\n",
    "a=int(input(\"Enter a = \"))\n",
    "b=int(input(\"Enter b = \"))\n",
    "c=int(input(\"Enter c = \"))\n",
    "discriminant = (b**2)-(4*a*c)\n",
    "sol_one = (-b+cmath.sqrt(discriminant))/(2*a)\n",
    "sol_two = (-b-cmath.sqrt(discriminant))/(2*a)\n",
    "print(sol_one ,\",\", sol_two)\n"
   ]
  },
  {
   "cell_type": "code",
   "execution_count": null,
   "id": "ebf5445e-09c5-444e-b750-5c174c07d7a7",
   "metadata": {},
   "outputs": [],
   "source": [
    "# 5. Write a Python program to swap two variables without temp variable?7\n",
    "x = int(input('enter the x value = '))\n",
    "y = int (input(\"enter the y value = \"))\n",
    "print (\"the value of x before swapping :\", x)\n",
    "print (\"the value of y before swapping :\", y)\n",
    "x , y = y , x\n",
    "print(\"valeu of x = \" , x)\n",
    "print (\" value of y = \" , y)"
   ]
  },
  {
   "cell_type": "code",
   "execution_count": null,
   "id": "bdcd2357-9892-4524-9b3d-8b412d007d9d",
   "metadata": {},
   "outputs": [],
   "source": []
  }
 ],
 "metadata": {
  "kernelspec": {
   "display_name": "Python 3 (ipykernel)",
   "language": "python",
   "name": "python3"
  },
  "language_info": {
   "codemirror_mode": {
    "name": "ipython",
    "version": 3
   },
   "file_extension": ".py",
   "mimetype": "text/x-python",
   "name": "python",
   "nbconvert_exporter": "python",
   "pygments_lexer": "ipython3",
   "version": "3.10.6"
  }
 },
 "nbformat": 4,
 "nbformat_minor": 5
}
