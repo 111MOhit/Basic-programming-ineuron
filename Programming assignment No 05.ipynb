{
 "cells": [
  {
   "cell_type": "code",
   "execution_count": 1,
   "id": "7fb42c52-6348-49a4-b6a5-15648fa1e93f",
   "metadata": {},
   "outputs": [
    {
     "name": "stdin",
     "output_type": "stream",
     "text": [
      "enter the number :  10\n",
      "enter the 2nd number : 100\n"
     ]
    },
    {
     "name": "stdout",
     "output_type": "stream",
     "text": [
      "The LCM of 10 and 100 is 100 \n"
     ]
    }
   ],
   "source": [
    "# 1. 1. Write a Python Program to Find LCM?\n",
    "\n",
    "\n",
    "a = int(input (\"enter the number : \"))\n",
    "b = int (input (\"enter the 2nd number :\"))  \n",
    "\n",
    "maxNumb = max (a , b)\n",
    "\n",
    "while (True) :\n",
    "    if (maxNumb%a==0 and maxNumb%b==0) :\n",
    "        break\n",
    "        maxNumb = maxNumb + 1 \n",
    "print (\"The LCM of {} and {} is {} \" .format(a,b,maxNumb) )\n",
    "        \n",
    "\n"
   ]
  },
  {
   "cell_type": "code",
   "execution_count": 23,
   "id": "f4868c39-eac1-4ffb-a321-1f865ef146bd",
   "metadata": {},
   "outputs": [
    {
     "name": "stdin",
     "output_type": "stream",
     "text": [
      "enter the 1st number 24\n",
      "enter the 2nd Number 60\n"
     ]
    },
    {
     "name": "stdout",
     "output_type": "stream",
     "text": [
      "HCf of number is 12 \n"
     ]
    }
   ],
   "source": [
    "# 2  2. Write a Python Program to Find HCF? \n",
    "\n",
    "\n",
    "a = int(input(\"enter the 1st number\" ))\n",
    "b = int(input(\"enter the 2nd Number\" ))\n",
    "\n",
    "\n",
    "if b > a :\n",
    "    mn = a\n",
    "else :\n",
    "    mn = b\n",
    "    \n",
    "for i in range (1 , 1+ mn) :\n",
    "    if a % i == 0 and b % i == 0 :\n",
    "        hcf = i \n",
    "print(\"HCf of number is {} \"  .format (hcf))"
   ]
  },
  {
   "cell_type": "code",
   "execution_count": 1,
   "id": "aa6070e8-0d59-4a9e-8e8d-cacdf3ed4dd9",
   "metadata": {},
   "outputs": [
    {
     "name": "stdin",
     "output_type": "stream",
     "text": [
      "Enter number : 45\n"
     ]
    },
    {
     "name": "stdout",
     "output_type": "stream",
     "text": [
      "45 in binary :  0b101101\n",
      "45 in Octal :  0o55\n",
      "45 in Hexadecimal :  0x2d\n"
     ]
    }
   ],
   "source": [
    "#  3. Write a Python Program to Convert Decimal to Binary, Octal and Hexadecimal? \n",
    " \n",
    "    \n",
    "#answer\n",
    "x=int(input(\"Enter number :\"))\n",
    "\n",
    "print(x, \"in binary : \", bin(x))\n",
    "print(x, \"in Octal : \", oct(x))\n",
    "print(x, \"in Hexadecimal : \",hex(x))    "
   ]
  },
  {
   "cell_type": "code",
   "execution_count": 8,
   "id": "baa1a954-78f6-4b95-aead-54ce7a5dda48",
   "metadata": {},
   "outputs": [
    {
     "name": "stdin",
     "output_type": "stream",
     "text": [
      "Enter a Charecter :  m\n"
     ]
    },
    {
     "name": "stdout",
     "output_type": "stream",
     "text": [
      "Ascii value of m is 109\n"
     ]
    }
   ],
   "source": [
    "# 4. Write a Python Program To Find ASCII value of a character?\n",
    "str = input(\"Enter a Charecter : \")\n",
    "# ord gives the ASCII value of a character\n",
    "print(\"Ascii value of {} is {}\".format(str,ord(str))"
   ]
  },
  {
   "cell_type": "code",
   "execution_count": 1,
   "id": "d35d951a-238d-4137-ae76-f12596bfca84",
   "metadata": {},
   "outputs": [
    {
     "name": "stdin",
     "output_type": "stream",
     "text": [
      "Enter num1 : 10\n",
      "Enter num2 : 20\n",
      "Enter + to add : \n",
      "Enter - to Sub :\n",
      "Enter * to multi :\n",
      "Enter / to div :  0\n"
     ]
    },
    {
     "name": "stdout",
     "output_type": "stream",
     "text": [
      "Invalid input\n"
     ]
    }
   ],
   "source": [
    "#answer\n",
    "x = float(input(\"Enter num1 :\"))\n",
    "y = float(input(\"Enter num2 :\"))\n",
    "\n",
    "op = input(\"Enter + to add : \\nEnter - to Sub :\\nEnter * to multi :\\nEnter / to div : \") \n",
    "\n",
    "add = x + y\n",
    "sub = x - y\n",
    "mul = x * y\n",
    "\n",
    "\n",
    "if op == \"+\":\n",
    "    print(\"{} + {} = {}\".format(x,y,add))\n",
    "elif op == \"-\":\n",
    "    print(\"{} - {} = {}\".format(x,y,sub))\n",
    "elif op == \"*\":\n",
    "    print(\"{} * {} = {}\".format(x,y,mul))\n",
    "elif op == \"/\":\n",
    "    if num1 == 0 or num2 == 0:\n",
    "        print(\"Division with zero is not possible\")\n",
    "    else:\n",
    "        div = x / y\n",
    "        print(\"{} / {} = {}\".format(x,y,div))\n",
    "else:\n",
    "    print(\"Invalid input\")\n",
    "     "
   ]
  },
  {
   "cell_type": "code",
   "execution_count": null,
   "id": "79084722-4d0f-4de8-a4d5-0782b6ae7ea5",
   "metadata": {},
   "outputs": [],
   "source": [
    "# 5. Write a Python Program to Make a Simple Calculator with 4 basic mathematical operations? \n",
    "\n",
    "# 5. Write a Python Program to Make a Simple Calculator with 4 basic mathematical operations? \n",
    "a = float(input(\"enter the Numb1 :\"))\n",
    "b = float(input(\"enter the Numb2 :\"))\n",
    "​\n",
    "cal = input(\"Enter + to add : \\nEnter - to sub :\\nEnter * to mul : \\nEnter / to div :\") \n",
    "​\n",
    "​\n",
    "add = a + b \n",
    "sub = a - b\n",
    "mul = a * b \n",
    "​\n",
    "​\n",
    "if cal == \"+\" : \n",
    "    print (\"{} + {} = {}\".fomrat(a,b,add)) \n",
    "else :    \n",
    "    print(\"not valid\")\n",
    "enter the Numb1 : 10"
   ]
  }
 ],
 "metadata": {
  "kernelspec": {
   "display_name": "Python 3 (ipykernel)",
   "language": "python",
   "name": "python3"
  },
  "language_info": {
   "codemirror_mode": {
    "name": "ipython",
    "version": 3
   },
   "file_extension": ".py",
   "mimetype": "text/x-python",
   "name": "python",
   "nbconvert_exporter": "python",
   "pygments_lexer": "ipython3",
   "version": "3.10.6"
  }
 },
 "nbformat": 4,
 "nbformat_minor": 5
}
